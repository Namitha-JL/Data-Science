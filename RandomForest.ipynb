{
  "nbformat": 4,
  "nbformat_minor": 0,
  "metadata": {
    "colab": {
      "provenance": []
    },
    "kernelspec": {
      "name": "python3",
      "display_name": "Python 3"
    },
    "language_info": {
      "name": "python"
    }
  },
  "cells": [
    {
      "cell_type": "code",
      "execution_count": 3,
      "metadata": {
        "colab": {
          "base_uri": "https://localhost:8080/"
        },
        "id": "UbLyR1LgCCAR",
        "outputId": "b8d34b55-e895-4462-a60e-c36aa60ca152"
      },
      "outputs": [
        {
          "output_type": "stream",
          "name": "stdout",
          "text": [
            "Breast Cancer Dataset - Ensemble Random Forest Accuracy: 96.49%\n"
          ]
        }
      ],
      "source": [
        "import numpy as np\n",
        "from sklearn.ensemble import RandomForestClassifier\n",
        "from sklearn.model_selection import train_test_split\n",
        "from sklearn.datasets import load_breast_cancer\n",
        "from sklearn.metrics import accuracy_score\n",
        "\n",
        "# Load Breast Cancer Dataset\n",
        "cancer = load_breast_cancer()\n",
        "X_cancer = cancer.data\n",
        "y_cancer = cancer.target\n",
        "\n",
        "# Number of models in the ensemble\n",
        "n_models = 5\n",
        "\n",
        "# Split data into training and test sets\n",
        "X_train, X_test, y_train, y_test = train_test_split(X_cancer, y_cancer, test_size=0.3, random_state=42)\n",
        "\n",
        "# Train multiple Random Forest models\n",
        "models = []\n",
        "for i in range(n_models):\n",
        "    model = RandomForestClassifier(n_estimators=100, random_state=42 + i)\n",
        "    model.fit(X_train, y_train)\n",
        "    models.append(model)\n",
        "\n",
        "# Get predictions from each model\n",
        "predictions = np.zeros((X_test.shape[0], n_models))\n",
        "for i, model in enumerate(models):\n",
        "    predictions[:, i] = model.predict(X_test)\n",
        "\n",
        "# Majority voting\n",
        "final_predictions = np.apply_along_axis(lambda x: np.bincount(x.astype(int)).argmax(), axis=1, arr=predictions)\n",
        "\n",
        "# Calculate accuracy\n",
        "accuracy = accuracy_score(y_test, final_predictions)\n",
        "print(f\"Breast Cancer Dataset - Ensemble Random Forest Accuracy: {accuracy * 100:.2f}%\")\n"
      ]
    }
  ]
}