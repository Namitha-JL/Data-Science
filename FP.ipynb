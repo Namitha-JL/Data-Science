{
  "nbformat": 4,
  "nbformat_minor": 0,
  "metadata": {
    "colab": {
      "provenance": []
    },
    "kernelspec": {
      "name": "python3",
      "display_name": "Python 3"
    },
    "language_info": {
      "name": "python"
    }
  },
  "cells": [
    {
      "cell_type": "code",
      "execution_count": 38,
      "metadata": {
        "colab": {
          "base_uri": "https://localhost:8080/"
        },
        "id": "UbLyR1LgCCAR",
        "outputId": "18a30a6e-a079-4f67-8fec-0ab721e389b9"
      },
      "outputs": [
        {
          "output_type": "stream",
          "name": "stdout",
          "text": [
            "Frequent Itemsets (Market Basket):\n",
            "   support         itemsets\n",
            "0      0.8          (bread)\n",
            "1      0.8           (milk)\n",
            "2      0.8         (butter)\n",
            "3      0.6    (milk, bread)\n",
            "4      0.6  (butter, bread)\n",
            "5      0.6   (butter, milk)\n",
            "\n",
            "Association Rules:\n",
            "  antecedents consequents  antecedent support  consequent support  support  \\\n",
            "0      (milk)     (bread)                 0.8                 0.8      0.6   \n",
            "1     (bread)      (milk)                 0.8                 0.8      0.6   \n",
            "2    (butter)     (bread)                 0.8                 0.8      0.6   \n",
            "3     (bread)    (butter)                 0.8                 0.8      0.6   \n",
            "4    (butter)      (milk)                 0.8                 0.8      0.6   \n",
            "5      (milk)    (butter)                 0.8                 0.8      0.6   \n",
            "\n",
            "   confidence    lift  representativity  leverage  conviction  zhangs_metric  \\\n",
            "0        0.75  0.9375               1.0     -0.04         0.8          -0.25   \n",
            "1        0.75  0.9375               1.0     -0.04         0.8          -0.25   \n",
            "2        0.75  0.9375               1.0     -0.04         0.8          -0.25   \n",
            "3        0.75  0.9375               1.0     -0.04         0.8          -0.25   \n",
            "4        0.75  0.9375               1.0     -0.04         0.8          -0.25   \n",
            "5        0.75  0.9375               1.0     -0.04         0.8          -0.25   \n",
            "\n",
            "   jaccard  certainty  kulczynski  \n",
            "0      0.6      -0.25        0.75  \n",
            "1      0.6      -0.25        0.75  \n",
            "2      0.6      -0.25        0.75  \n",
            "3      0.6      -0.25        0.75  \n",
            "4      0.6      -0.25        0.75  \n",
            "5      0.6      -0.25        0.75  \n"
          ]
        },
        {
          "output_type": "stream",
          "name": "stderr",
          "text": [
            "/usr/local/lib/python3.11/dist-packages/mlxtend/frequent_patterns/fpcommon.py:161: DeprecationWarning: DataFrames with non-bool types result in worse computationalperformance and their support might be discontinued in the future.Please use a DataFrame with bool type\n",
            "  warnings.warn(\n"
          ]
        }
      ],
      "source": [
        "import pandas as pd\n",
        "from mlxtend.frequent_patterns import apriori\n",
        "from mlxtend.frequent_patterns import association_rules\n",
        "\n",
        "# Dataset: Supermarket transactions\n",
        "transactions = [\n",
        "    ['bread', 'milk', 'butter'],\n",
        "    ['bread', 'butter'],\n",
        "    ['milk', 'bread'],\n",
        "    ['bread', 'butter', 'milk'],\n",
        "    ['milk', 'butter']\n",
        "]\n",
        "\n",
        "# Convert dataset to one-hot encoded DataFrame\n",
        "df = pd.DataFrame([{item: 1 for item in transaction} for transaction in transactions]).fillna(0)\n",
        "\n",
        "# Run Apriori with a minimum support threshold\n",
        "frequent_itemsets = apriori(df, min_support=0.5, use_colnames=True)\n",
        "rules = association_rules(frequent_itemsets, metric=\"confidence\", min_threshold=0.6)\n",
        "\n",
        "print(\"Frequent Itemsets (Market Basket):\")\n",
        "print(frequent_itemsets)\n",
        "print(\"\\nAssociation Rules:\")\n",
        "print(rules)\n"
      ]
    },
    {
      "cell_type": "code",
      "source": [],
      "metadata": {
        "id": "XOrX5Z2nGD8j"
      },
      "execution_count": null,
      "outputs": []
    }
  ]
}