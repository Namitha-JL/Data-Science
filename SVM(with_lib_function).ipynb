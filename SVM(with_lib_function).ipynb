{
  "nbformat": 4,
  "nbformat_minor": 0,
  "metadata": {
    "colab": {
      "provenance": []
    },
    "kernelspec": {
      "name": "python3",
      "display_name": "Python 3"
    },
    "language_info": {
      "name": "python"
    }
  },
  "cells": [
    {
      "cell_type": "code",
      "execution_count": 5,
      "metadata": {
        "colab": {
          "base_uri": "https://localhost:8080/"
        },
        "id": "W9Y79JvNiP1H",
        "outputId": "f129c158-4e6c-43f2-cd67-d3c6183a5b33"
      },
      "outputs": [
        {
          "output_type": "stream",
          "name": "stdout",
          "text": [
            "Predictions: [1 1 1 0 0 0]\n"
          ]
        }
      ],
      "source": [
        "from sklearn.svm import SVC\n",
        "import numpy as np\n",
        "\n",
        "# Sample dataset: binary classification with two features\n",
        "X = np.array([[85, 90], [80, 85], [78, 88], [50, 60], [45, 50], [40, 45]])\n",
        "y = np.array([1, 1, 1, 0, 0, 0])  # Labels: 1 (Young), 0 (Old)\n",
        "\n",
        "# Initialize and train the SVM using a linear kernel\n",
        "clf = SVC(kernel='linear', C=1.0)\n",
        "clf.fit(X, y)\n",
        "\n",
        "# Predicting on the same data points\n",
        "predictions = clf.predict(X)\n",
        "print(\"Predictions:\", predictions)\n"
      ]
    }
  ]
}